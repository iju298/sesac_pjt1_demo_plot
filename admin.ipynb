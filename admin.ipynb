{
 "cells": [
  {
   "cell_type": "code",
   "execution_count": 1,
   "id": "45964a53",
   "metadata": {},
   "outputs": [],
   "source": [
    "import warnings\n",
    "warnings.filterwarnings('ignore')\n",
    "\n",
    "\n",
    "import pandas as pd\n",
    "from utils import *\n"
   ]
  },
  {
   "cell_type": "code",
   "execution_count": 2,
   "id": "80709ea8",
   "metadata": {},
   "outputs": [],
   "source": [
    "plot_path = './plots'\n",
    "save = True"
   ]
  },
  {
   "cell_type": "code",
   "execution_count": 3,
   "id": "0e6038a0",
   "metadata": {},
   "outputs": [],
   "source": [
    "student_df = pd.read_csv('./Dataset/student.csv')\n",
    "lecture_df = pd.read_csv('./Dataset/lecture_info.csv')\n"
   ]
  },
  {
   "cell_type": "code",
   "execution_count": 4,
   "id": "4d6d8ba0",
   "metadata": {},
   "outputs": [
    {
     "name": "stdout",
     "output_type": "stream",
     "text": [
      "✅ 그래프가 HTML로 저장되었습니다: ./plots/lec_1_ch_1_exam_all_score.html\n",
      "✅ 그래프가 HTML로 저장되었습니다: ./plots/lec_1_ch_1_exam_1_score.html\n",
      "✅ 그래프가 HTML로 저장되었습니다: ./plots/lec_1_ch_1_exam_2_score.html\n",
      "✅ 그래프가 HTML로 저장되었습니다: ./plots/lec_1_ch_2_exam_all_score.html\n",
      "✅ 그래프가 HTML로 저장되었습니다: ./plots/lec_1_ch_2_exam_1_score.html\n",
      "✅ 그래프가 HTML로 저장되었습니다: ./plots/lec_1_ch_2_exam_2_score.html\n"
     ]
    }
   ],
   "source": [
    "\n",
    "plot_score_distribution_by_chapter(student_df, lecture=1, chapter=1, exam=\"all\")\n",
    "plot_score_distribution_by_chapter(student_df, lecture=1, chapter=1, exam=1)\n",
    "plot_score_distribution_by_chapter(student_df, lecture=1, chapter=1, exam=2)\n",
    "\n",
    "\n",
    "plot_score_distribution_by_chapter(student_df, lecture=1, chapter=2, exam=\"all\")\n",
    "plot_score_distribution_by_chapter(student_df, lecture=1, chapter=2, exam=1)\n",
    "plot_score_distribution_by_chapter(student_df, lecture=1, chapter=2, exam=2)\n",
    "\n",
    "\n",
    "\n"
   ]
  },
  {
   "cell_type": "code",
   "execution_count": null,
   "id": "9c7c3900",
   "metadata": {},
   "outputs": [],
   "source": []
  }
 ],
 "metadata": {
  "kernelspec": {
   "display_name": "my_env",
   "language": "python",
   "name": "python3"
  },
  "language_info": {
   "codemirror_mode": {
    "name": "ipython",
    "version": 3
   },
   "file_extension": ".py",
   "mimetype": "text/x-python",
   "name": "python",
   "nbconvert_exporter": "python",
   "pygments_lexer": "ipython3",
   "version": "3.8.20"
  }
 },
 "nbformat": 4,
 "nbformat_minor": 5
}
