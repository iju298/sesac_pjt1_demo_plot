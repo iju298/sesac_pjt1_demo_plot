{
 "cells": [
  {
   "cell_type": "code",
   "execution_count": 1,
   "id": "45964a53",
   "metadata": {},
   "outputs": [],
   "source": [
    "import warnings\n",
    "warnings.filterwarnings('ignore')\n",
    "\n",
    "\n",
    "import pandas as pd\n",
    "from utils import *\n"
   ]
  },
  {
   "cell_type": "code",
   "execution_count": 2,
   "id": "80709ea8",
   "metadata": {},
   "outputs": [],
   "source": [
    "plot_path = './plots'\n",
    "save = True\n",
    "student_name = 'Margaret'"
   ]
  },
  {
   "cell_type": "code",
   "execution_count": 3,
   "id": "0e6038a0",
   "metadata": {},
   "outputs": [],
   "source": [
    "student_df = pd.read_csv('./Dataset/student.csv')\n",
    "lecture_df = pd.read_csv('./Dataset/lecture_info.csv')\n"
   ]
  },
  {
   "cell_type": "code",
   "execution_count": 4,
   "id": "9dd61c22",
   "metadata": {},
   "outputs": [
    {
     "data": {
      "text/plain": [
       "array(['Curtis', 'Jason', 'David', 'Justin', 'Francisco', 'Sue',\n",
       "       'Tiffany', 'Jacob', 'Anita', 'Christopher', 'Jeffery', 'Christine',\n",
       "       'Sherry', 'William', 'Margaret', 'Ashley', 'Gabrielle',\n",
       "       'Stephanie', 'James', 'Michael', 'Shawn', 'Chelsea', 'Elizabeth',\n",
       "       'Michele', 'Erika', 'Sharon', 'Michelle', 'Jenna', 'Renee', 'Luke',\n",
       "       'Vickie', 'Matthew', 'Aaron', 'Kenneth', 'Robert', 'Phillip',\n",
       "       'Laura', 'Melissa', 'Andrew', 'Harry', 'Douglas', 'Carlos', 'Jill',\n",
       "       'Kimberly', 'Dylan', 'Rachel', 'Keith'], dtype=object)"
      ]
     },
     "execution_count": 4,
     "metadata": {},
     "output_type": "execute_result"
    }
   ],
   "source": [
    "student_df.student_name.unique()"
   ]
  },
  {
   "cell_type": "code",
   "execution_count": null,
   "id": "68097f3b",
   "metadata": {},
   "outputs": [],
   "source": [
    "def personal_info(student_df, lecture_df, student_name, lecture=1, save=save, path=plot_path):\n",
    "    # (학생 대시 보드) Lecture별 수강 시간\n",
    "    plot_student_lecture_time(student_df, student_name, lecture=lecture, save=save, path=plot_path)\n",
    "    # (학생 대시 보드) Lecture별 실습 오류 횟수\n",
    "    plot_student_chapter_count(student_df, student_name, lecture=lecture, save=save, path=plot_path)\n",
    "    ## (학생 대시 보드) skill - 전체 lecture-ch의 weight와 exam 평균점수로 계산 (scaling함)\n",
    "    plot_student_proficiency_radar(student_df, lecture_df, student_name, save=save, path=plot_path)\n",
    "\n",
    "    report_student_skill_analysis(student_df, lecture_df, student_name)\n",
    "   \n"
   ]
  },
  {
   "cell_type": "code",
   "execution_count": 6,
   "id": "93623c96",
   "metadata": {},
   "outputs": [
    {
     "name": "stdout",
     "output_type": "stream",
     "text": [
      "✅ 그래프가 HTML로 저장되었습니다: ./plots/Margaret_lec_1_time.html\n",
      "✅ 그래프가 HTML로 저장되었습니다: ./plots/Margaret_lec_1_incorrect_count.html\n",
      "✅ 그래프가 HTML로 저장되었습니다: ./plots/Margaret_skill.html\n",
      "✅ 그래프가 HTML로 저장되었습니다: ./plots/Margaret_lec_2_time.html\n",
      "✅ 그래프가 HTML로 저장되었습니다: ./plots/Margaret_lec_2_incorrect_count.html\n",
      "✅ 그래프가 HTML로 저장되었습니다: ./plots/Margaret_skill.html\n"
     ]
    }
   ],
   "source": [
    "personal_info(student_df, lecture_df, 'Margaret', lecture=1, save=save, path=plot_path)\n",
    "personal_info(student_df, lecture_df, 'Margaret', lecture=2, save=save, path=plot_path)\n",
    "    "
   ]
  },
  {
   "cell_type": "code",
   "execution_count": 7,
   "id": "f011b90c",
   "metadata": {},
   "outputs": [
    {
     "name": "stdout",
     "output_type": "stream",
     "text": [
      "✅ 그래프가 HTML로 저장되었습니다: ./plots/Harry_lec_1_time.html\n",
      "✅ 그래프가 HTML로 저장되었습니다: ./plots/Harry_lec_1_incorrect_count.html\n",
      "✅ 그래프가 HTML로 저장되었습니다: ./plots/Harry_skill.html\n",
      "✅ 그래프가 HTML로 저장되었습니다: ./plots/Harry_lec_2_time.html\n",
      "✅ 그래프가 HTML로 저장되었습니다: ./plots/Harry_lec_2_incorrect_count.html\n",
      "✅ 그래프가 HTML로 저장되었습니다: ./plots/Harry_skill.html\n"
     ]
    }
   ],
   "source": [
    "personal_info(student_df, lecture_df, 'Harry', lecture=1, save=save, path=plot_path)\n",
    "personal_info(student_df, lecture_df, 'Harry', lecture=2, save=save, path=plot_path)\n",
    "    "
   ]
  },
  {
   "cell_type": "code",
   "execution_count": 8,
   "id": "c6cbc3eb",
   "metadata": {},
   "outputs": [
    {
     "data": {
      "text/html": [
       "<div>\n",
       "<style scoped>\n",
       "    .dataframe tbody tr th:only-of-type {\n",
       "        vertical-align: middle;\n",
       "    }\n",
       "\n",
       "    .dataframe tbody tr th {\n",
       "        vertical-align: top;\n",
       "    }\n",
       "\n",
       "    .dataframe thead th {\n",
       "        text-align: right;\n",
       "    }\n",
       "</style>\n",
       "<table border=\"1\" class=\"dataframe\">\n",
       "  <thead>\n",
       "    <tr style=\"text-align: right;\">\n",
       "      <th></th>\n",
       "      <th>student_no</th>\n",
       "      <th>lecture</th>\n",
       "      <th>chapter</th>\n",
       "      <th>progress</th>\n",
       "      <th>time</th>\n",
       "      <th>count</th>\n",
       "      <th>exam1</th>\n",
       "      <th>exam2</th>\n",
       "    </tr>\n",
       "  </thead>\n",
       "  <tbody>\n",
       "    <tr>\n",
       "      <th>count</th>\n",
       "      <td>500.000000</td>\n",
       "      <td>500.000000</td>\n",
       "      <td>500.00000</td>\n",
       "      <td>500.000000</td>\n",
       "      <td>500.000000</td>\n",
       "      <td>500.000000</td>\n",
       "      <td>500.000000</td>\n",
       "      <td>500.000000</td>\n",
       "    </tr>\n",
       "    <tr>\n",
       "      <th>mean</th>\n",
       "      <td>25.500000</td>\n",
       "      <td>1.500000</td>\n",
       "      <td>3.00000</td>\n",
       "      <td>0.704900</td>\n",
       "      <td>53.628000</td>\n",
       "      <td>2.606000</td>\n",
       "      <td>67.311077</td>\n",
       "      <td>66.464417</td>\n",
       "    </tr>\n",
       "    <tr>\n",
       "      <th>std</th>\n",
       "      <td>14.445322</td>\n",
       "      <td>0.500501</td>\n",
       "      <td>1.41563</td>\n",
       "      <td>0.174147</td>\n",
       "      <td>20.326237</td>\n",
       "      <td>1.693665</td>\n",
       "      <td>27.920160</td>\n",
       "      <td>26.859756</td>\n",
       "    </tr>\n",
       "    <tr>\n",
       "      <th>min</th>\n",
       "      <td>1.000000</td>\n",
       "      <td>1.000000</td>\n",
       "      <td>1.00000</td>\n",
       "      <td>0.400000</td>\n",
       "      <td>20.000000</td>\n",
       "      <td>0.000000</td>\n",
       "      <td>0.000000</td>\n",
       "      <td>4.242388</td>\n",
       "    </tr>\n",
       "    <tr>\n",
       "      <th>25%</th>\n",
       "      <td>13.000000</td>\n",
       "      <td>1.000000</td>\n",
       "      <td>2.00000</td>\n",
       "      <td>0.560000</td>\n",
       "      <td>36.000000</td>\n",
       "      <td>1.000000</td>\n",
       "      <td>46.125766</td>\n",
       "      <td>43.200655</td>\n",
       "    </tr>\n",
       "    <tr>\n",
       "      <th>50%</th>\n",
       "      <td>25.500000</td>\n",
       "      <td>1.500000</td>\n",
       "      <td>3.00000</td>\n",
       "      <td>0.710000</td>\n",
       "      <td>54.000000</td>\n",
       "      <td>3.000000</td>\n",
       "      <td>70.396987</td>\n",
       "      <td>68.751341</td>\n",
       "    </tr>\n",
       "    <tr>\n",
       "      <th>75%</th>\n",
       "      <td>38.000000</td>\n",
       "      <td>2.000000</td>\n",
       "      <td>4.00000</td>\n",
       "      <td>0.860000</td>\n",
       "      <td>69.000000</td>\n",
       "      <td>4.000000</td>\n",
       "      <td>95.685857</td>\n",
       "      <td>93.541206</td>\n",
       "    </tr>\n",
       "    <tr>\n",
       "      <th>max</th>\n",
       "      <td>50.000000</td>\n",
       "      <td>2.000000</td>\n",
       "      <td>5.00000</td>\n",
       "      <td>1.000000</td>\n",
       "      <td>90.000000</td>\n",
       "      <td>7.000000</td>\n",
       "      <td>100.000000</td>\n",
       "      <td>100.000000</td>\n",
       "    </tr>\n",
       "  </tbody>\n",
       "</table>\n",
       "</div>"
      ],
      "text/plain": [
       "       student_no     lecture    chapter    progress        time       count  \\\n",
       "count  500.000000  500.000000  500.00000  500.000000  500.000000  500.000000   \n",
       "mean    25.500000    1.500000    3.00000    0.704900   53.628000    2.606000   \n",
       "std     14.445322    0.500501    1.41563    0.174147   20.326237    1.693665   \n",
       "min      1.000000    1.000000    1.00000    0.400000   20.000000    0.000000   \n",
       "25%     13.000000    1.000000    2.00000    0.560000   36.000000    1.000000   \n",
       "50%     25.500000    1.500000    3.00000    0.710000   54.000000    3.000000   \n",
       "75%     38.000000    2.000000    4.00000    0.860000   69.000000    4.000000   \n",
       "max     50.000000    2.000000    5.00000    1.000000   90.000000    7.000000   \n",
       "\n",
       "            exam1       exam2  \n",
       "count  500.000000  500.000000  \n",
       "mean    67.311077   66.464417  \n",
       "std     27.920160   26.859756  \n",
       "min      0.000000    4.242388  \n",
       "25%     46.125766   43.200655  \n",
       "50%     70.396987   68.751341  \n",
       "75%     95.685857   93.541206  \n",
       "max    100.000000  100.000000  "
      ]
     },
     "execution_count": 8,
     "metadata": {},
     "output_type": "execute_result"
    }
   ],
   "source": [
    "student_df.describe()"
   ]
  },
  {
   "cell_type": "code",
   "execution_count": null,
   "id": "4d6d8ba0",
   "metadata": {},
   "outputs": [],
   "source": []
  },
  {
   "cell_type": "code",
   "execution_count": null,
   "id": "f15cef88",
   "metadata": {},
   "outputs": [
    {
     "data": {
      "text/plain": [
       "{'best_skill': {'skill': 'Dart', 'normalized_score': 59.4313835993833},\n",
       " 'worst_skill': {'skill': 'Package', 'normalized_score': 54.44741480535167},\n",
       " 'most_weighted_chapter_for_worst_skill': {'lecture': 2,\n",
       "  'chapter': 4,\n",
       "  'weight': 0.51},\n",
       " 'progress_percent': 67.5}"
      ]
     },
     "execution_count": 16,
     "metadata": {},
     "output_type": "execute_result"
    }
   ],
   "source": []
  },
  {
   "cell_type": "code",
   "execution_count": null,
   "id": "9c7c3900",
   "metadata": {},
   "outputs": [],
   "source": []
  }
 ],
 "metadata": {
  "kernelspec": {
   "display_name": "my_env",
   "language": "python",
   "name": "python3"
  },
  "language_info": {
   "codemirror_mode": {
    "name": "ipython",
    "version": 3
   },
   "file_extension": ".py",
   "mimetype": "text/x-python",
   "name": "python",
   "nbconvert_exporter": "python",
   "pygments_lexer": "ipython3",
   "version": "3.8.20"
  }
 },
 "nbformat": 4,
 "nbformat_minor": 5
}
