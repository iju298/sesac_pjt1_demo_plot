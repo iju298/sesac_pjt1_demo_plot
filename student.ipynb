{
 "cells": [
  {
   "cell_type": "code",
   "execution_count": 1,
   "id": "45964a53",
   "metadata": {},
   "outputs": [],
   "source": [
    "import warnings\n",
    "warnings.filterwarnings('ignore')\n",
    "\n",
    "\n",
    "import pandas as pd\n",
    "from utils import *\n"
   ]
  },
  {
   "cell_type": "code",
   "execution_count": 2,
   "id": "80709ea8",
   "metadata": {},
   "outputs": [],
   "source": [
    "plot_path = './plots'\n",
    "save = True"
   ]
  },
  {
   "cell_type": "code",
   "execution_count": 3,
   "id": "0e6038a0",
   "metadata": {},
   "outputs": [],
   "source": [
    "student_df = pd.read_csv('./Dataset/student.csv')\n",
    "lecture_df = pd.read_csv('./Dataset/lecture_info.csv')\n"
   ]
  },
  {
   "cell_type": "code",
   "execution_count": 4,
   "id": "9dd61c22",
   "metadata": {},
   "outputs": [
    {
     "data": {
      "text/plain": [
       "array(['Curtis', 'Jason', 'David', 'Justin', 'Francisco', 'Sue',\n",
       "       'Tiffany', 'Jacob', 'Anita', 'Christopher', 'Jeffery', 'Christine',\n",
       "       'Sherry', 'William', 'Margaret', 'Ashley', 'Gabrielle',\n",
       "       'Stephanie', 'James', 'Michael', 'Shawn', 'Chelsea', 'Elizabeth',\n",
       "       'Michele', 'Erika', 'Sharon', 'Michelle', 'Jenna', 'Renee', 'Luke',\n",
       "       'Vickie', 'Matthew', 'Aaron', 'Kenneth', 'Robert', 'Phillip',\n",
       "       'Laura', 'Melissa', 'Andrew', 'Harry', 'Douglas', 'Carlos', 'Jill',\n",
       "       'Kimberly', 'Dylan', 'Rachel', 'Keith'], dtype=object)"
      ]
     },
     "execution_count": 4,
     "metadata": {},
     "output_type": "execute_result"
    }
   ],
   "source": [
    "student_df.student_name.unique()"
   ]
  },
  {
   "cell_type": "code",
   "execution_count": 6,
   "id": "68097f3b",
   "metadata": {},
   "outputs": [],
   "source": [
    "def personal_info(student_df, lecture_df, student_name, lecture=1, save=save, path=plot_path):\n",
    "    # (학생 대시 보드) Lecture별 수강 시간\n",
    "    plot_student_lecture_time(student_df, student_name, lecture=lecture, save=save, path=plot_path)\n",
    "    # (학생 대시 보드) Lecture별 실습 오류 횟수\n",
    "    plot_student_chapter_count(student_df, student_name, lecture=lecture, save=save, path=plot_path)\n",
    "    ## (학생 대시 보드) skill - 전체 lecture-ch의 weight와 exam 평균점수로 계산 (scaling함)\n",
    "    plot_student_proficiency_radar(student_df, lecture_df, student_name, save=save, path=plot_path)\n",
    "\n",
    "    report_student_skill_analysis(student_df, lecture_df, student_name)\n",
    "   \n"
   ]
  },
  {
   "cell_type": "code",
   "execution_count": 7,
   "id": "93623c96",
   "metadata": {},
   "outputs": [
    {
     "name": "stdout",
     "output_type": "stream",
     "text": [
      "✅ 그래프가 HTML로 저장되었습니다: ./plots/Margaret_lec_1_time.html\n",
      "✅ 그래프가 HTML로 저장되었습니다: ./plots/Margaret_lec_1_incorrect_count.html\n",
      "✅ 그래프가 HTML로 저장되었습니다: ./plots/Margaret_skill.html\n",
      "✅ 그래프가 HTML로 저장되었습니다: ./plots/Margaret_lec_2_time.html\n",
      "✅ 그래프가 HTML로 저장되었습니다: ./plots/Margaret_lec_2_incorrect_count.html\n",
      "✅ 그래프가 HTML로 저장되었습니다: ./plots/Margaret_skill.html\n"
     ]
    }
   ],
   "source": [
    "personal_info(student_df, lecture_df, 'Margaret', lecture=1, save=save, path=plot_path)\n",
    "personal_info(student_df, lecture_df, 'Margaret', lecture=2, save=save, path=plot_path)\n",
    "    "
   ]
  },
  {
   "cell_type": "code",
   "execution_count": 8,
   "id": "f011b90c",
   "metadata": {},
   "outputs": [
    {
     "name": "stdout",
     "output_type": "stream",
     "text": [
      "✅ 그래프가 HTML로 저장되었습니다: ./plots/Harry_lec_1_time.html\n",
      "✅ 그래프가 HTML로 저장되었습니다: ./plots/Harry_lec_1_incorrect_count.html\n",
      "✅ 그래프가 HTML로 저장되었습니다: ./plots/Harry_skill.html\n",
      "✅ 그래프가 HTML로 저장되었습니다: ./plots/Harry_lec_2_time.html\n",
      "✅ 그래프가 HTML로 저장되었습니다: ./plots/Harry_lec_2_incorrect_count.html\n",
      "✅ 그래프가 HTML로 저장되었습니다: ./plots/Harry_skill.html\n"
     ]
    }
   ],
   "source": [
    "personal_info(student_df, lecture_df, 'Harry', lecture=1, save=save, path=plot_path)\n",
    "personal_info(student_df, lecture_df, 'Harry', lecture=2, save=save, path=plot_path)\n",
    "    "
   ]
  },
  {
   "cell_type": "code",
   "execution_count": null,
   "id": "4d6d8ba0",
   "metadata": {},
   "outputs": [],
   "source": []
  },
  {
   "cell_type": "code",
   "execution_count": null,
   "id": "f15cef88",
   "metadata": {},
   "outputs": [],
   "source": []
  },
  {
   "cell_type": "code",
   "execution_count": null,
   "id": "9c7c3900",
   "metadata": {},
   "outputs": [],
   "source": []
  }
 ],
 "metadata": {
  "kernelspec": {
   "display_name": "my_env",
   "language": "python",
   "name": "python3"
  },
  "language_info": {
   "codemirror_mode": {
    "name": "ipython",
    "version": 3
   },
   "file_extension": ".py",
   "mimetype": "text/x-python",
   "name": "python",
   "nbconvert_exporter": "python",
   "pygments_lexer": "ipython3",
   "version": "3.8.20"
  }
 },
 "nbformat": 4,
 "nbformat_minor": 5
}
